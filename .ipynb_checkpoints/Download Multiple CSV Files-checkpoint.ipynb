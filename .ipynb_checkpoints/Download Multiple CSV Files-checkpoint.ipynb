{
 "cells": [
  {
   "cell_type": "code",
   "execution_count": 4,
   "id": "672e93c0",
   "metadata": {
    "ExecuteTime": {
     "end_time": "2022-03-06T17:38:58.734430Z",
     "start_time": "2022-03-06T17:38:58.728464Z"
    }
   },
   "outputs": [],
   "source": [
    "years = [2122, 2021, 1920, 1819, 1718] # list of years\n",
    "es = ['E0', 'E1', 'E2', 'E3', 'EC'] # list of unique csv file indicators\n",
    "\n",
    "strg = 'https://www.football-data.co.uk/mmz4281/{}/{}.csv' # base-url\n",
    "urls = [] # empty list for the formatted urls\n",
    "\n",
    "for year in years:\n",
    "    for e in es:\n",
    "        urls.append(strg.format(year, e)) # Formatting each url\n",
    "urls # display all generated urls"
   ]
  },
  {
   "cell_type": "code",
   "execution_count": 32,
   "id": "c4f3535e",
   "metadata": {
    "ExecuteTime": {
     "end_time": "2022-03-06T18:50:49.873957Z",
     "start_time": "2022-03-06T18:50:46.405038Z"
    }
   },
   "outputs": [],
   "source": [
    "import pandas as pd # import pandas"
   ]
  },
  {
   "cell_type": "code",
   "execution_count": 26,
   "id": "cad93aa6",
   "metadata": {
    "ExecuteTime": {
     "end_time": "2022-03-06T18:17:30.726868Z",
     "start_time": "2022-03-06T18:16:34.367596Z"
    }
   },
   "outputs": [],
   "source": [
    "for url in urls: # loop through each urls\n",
    "    # First - read the csv files from each urls, then export each csv files by the name of the year + _ + csv filename\n",
    "    pd.read_csv(url, encoding='latin-1').to_csv('England_Premier_League_Data/' + url.split('/')[-2] + '_' + url.split('/')[-1])\n",
    "    "
   ]
  },
  {
   "cell_type": "code",
   "execution_count": 33,
   "id": "be59cffd",
   "metadata": {
    "ExecuteTime": {
     "end_time": "2022-03-06T18:51:17.627614Z",
     "start_time": "2022-03-06T18:51:16.544523Z"
    },
    "scrolled": false
   },
   "outputs": [
    {
     "data": {
      "text/plain": [
       "<Figure size 432x288 with 0 Axes>"
      ]
     },
     "metadata": {},
     "output_type": "display_data"
    }
   ],
   "source": [
    "# Checking if we have the csv file by randomly selecting one\n",
    "df_1819_E0 = pd.read_csv('England_Premier_League_Data/1819_E0.csv') # Create a Data Frame from the csv file\n",
    "pd.set_option('display.max_rows', len(df_1819_E0)) # Show all rows of the Data Frame\n",
    "df_1819_E0 # Display the Data Frame"
   ]
  },
  {
   "cell_type": "markdown",
   "id": "0c17870c",
   "metadata": {},
   "source": [
    "**[Telegram](https://t.me/zenonymous)**"
   ]
  }
 ],
 "metadata": {
  "kernelspec": {
   "display_name": "Python 3 (ipykernel)",
   "language": "python",
   "name": "python3"
  },
  "language_info": {
   "codemirror_mode": {
    "name": "ipython",
    "version": 3
   },
   "file_extension": ".py",
   "mimetype": "text/x-python",
   "name": "python",
   "nbconvert_exporter": "python",
   "pygments_lexer": "ipython3",
   "version": "3.9.7"
  }
 },
 "nbformat": 4,
 "nbformat_minor": 5
}
