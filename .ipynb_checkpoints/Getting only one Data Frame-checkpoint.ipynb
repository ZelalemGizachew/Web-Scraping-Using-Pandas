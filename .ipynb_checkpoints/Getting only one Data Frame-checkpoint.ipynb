{
 "cells": [
  {
   "cell_type": "code",
   "execution_count": 1,
   "id": "4c211e53",
   "metadata": {
    "ExecuteTime": {
     "end_time": "2022-03-06T17:04:57.338570Z",
     "start_time": "2022-03-06T17:04:56.481669Z"
    }
   },
   "outputs": [],
   "source": [
    "import pandas as pd"
   ]
  },
  {
   "cell_type": "markdown",
   "id": "5d874a45",
   "metadata": {},
   "source": [
    "## Web Scraping with pandas\n",
    "\n",
    "#### Target Website\n",
    "https://www.football-data.co.uk/englandm.php"
   ]
  }
 ],
 "metadata": {
  "kernelspec": {
   "display_name": "Python 3 (ipykernel)",
   "language": "python",
   "name": "python3"
  },
  "language_info": {
   "codemirror_mode": {
    "name": "ipython",
    "version": 3
   },
   "file_extension": ".py",
   "mimetype": "text/x-python",
   "name": "python",
   "nbconvert_exporter": "python",
   "pygments_lexer": "ipython3",
   "version": "3.9.7"
  }
 },
 "nbformat": 4,
 "nbformat_minor": 5
}
